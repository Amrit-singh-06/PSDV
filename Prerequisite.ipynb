{
 "cells": [
  {
   "cell_type": "markdown",
   "id": "4ed08980-0b0f-45a0-972c-9da6abf39ab9",
   "metadata": {},
   "source": [
    "### Question 1"
   ]
  },
  {
   "cell_type": "code",
   "execution_count": null,
   "id": "ad893944-6d51-42ce-ba31-3d24caf86410",
   "metadata": {},
   "outputs": [],
   "source": [
    "import statistics\n",
    "a=[]\n",
    "evenSum=0\n",
    "oddProd=1\n",
    "for i in range(20):\n",
    "    a.append(i+1)\n",
    "for i in range(10):\n",
    "    evenSum+=a[2*i+1]\n",
    "print(evenSum)\n",
    "for i in range(10):\n",
    "    oddProd*=a[2*i]\n",
    "print(oddProd)\n",
    "print(statistics.mean(a))\n",
    "print(statistics.median(a))\n",
    "print(statistics.stdev(a))\n",
    "\n",
    "    "
   ]
  },
  {
   "cell_type": "code",
   "execution_count": null,
   "id": "5c5e6d73-87a1-46c7-a6f4-834db42f6548",
   "metadata": {},
   "outputs": [],
   "source": [
    "#question 2\n",
    "# Mutable data types are those whose values can be changed after they are created. This means you can alter the contents without changing their memory location. The examples are lists dictionaries and sets\n",
    "\n",
    "a=[]\n",
    "print(a)\n",
    "a.append(1)\n",
    "a.append(2)\n",
    "print(a)\n",
    "\n",
    "# Immutable data types are those which values cannot be changed once they are created. Any modification to an immutable object results in the creation of a new object, and the original object remains unchanged. The exaxmples are tuples and strings"
   ]
  },
  {
   "cell_type": "code",
   "execution_count": null,
   "id": "913b8e5a-0b1d-419c-97f0-d7cd949c43f6",
   "metadata": {},
   "outputs": [],
   "source": [
    "#question 3\n",
    "def fibb(n):\n",
    "    if n==1:\n",
    "        return 1\n",
    "    if n==2:\n",
    "        return 1\n",
    "    else:\n",
    "        return fibb(n-1)+fibb(n-2)\n",
    "a=[]\n",
    "n=int(input())\n",
    "for i in range(1,n+1):\n",
    "    a.append(fibb(i))\n",
    "print(a)"
   ]
  },
  {
   "cell_type": "code",
   "execution_count": null,
   "id": "9dcdee59-69bd-4a49-b142-b095889b03f5",
   "metadata": {},
   "outputs": [],
   "source": [
    "#question 4\n",
    "a=[3,5,7,9,11,13]\n",
    "b=[]\n",
    "for i in range(len(a)+1):\n",
    "    if i<3:\n",
    "        b.append(a[i])\n",
    "    elif i==3:\n",
    "        b.append(6)\n",
    "    else:\n",
    "        b.append(a[i-1])\n",
    "b.remove(7)\n",
    "b.reverse()\n",
    "s=0\n",
    "for i in range(len(b)):\n",
    "    s+=b[i]\n",
    "print('Mean : ',s/len(b))\n",
    "b.sort()\n",
    "print('Median : ',(b[2]+b[3])/2)"
   ]
  },
  {
   "cell_type": "code",
   "execution_count": null,
   "id": "51ee8896-4941-4fec-ac59-c252a88e4607",
   "metadata": {},
   "outputs": [],
   "source": [
    "#5\n",
    "a=list(map(int,input().split(',')))\n",
    "s=0\n",
    "for i in range(len(a)):\n",
    "    s+=a[i]\n",
    "print('Mean ; ',s/len(a))\n",
    "a.sort()\n",
    "print('Smallest : ',a[0])\n",
    "print('Greatest : ',a[len(a)-1])"
   ]
  },
  {
   "cell_type": "code",
   "execution_count": null,
   "id": "8ece7e40-3de6-4807-aa0b-c5fcd66199dc",
   "metadata": {},
   "outputs": [],
   "source": [
    "#6\n",
    "s=input()\n",
    "s=s.replace(' ','')\n",
    "b=''\n",
    "for a in s:\n",
    "    b=a+b\n",
    "if(b==s):\n",
    "    print('True')\n",
    "else:\n",
    "    print(\"False\")"
   ]
  },
  {
   "cell_type": "code",
   "execution_count": null,
   "id": "806f4723-2afd-42a0-a7a4-4e60beae8fe5",
   "metadata": {},
   "outputs": [],
   "source": [
    "#7\n",
    "student={'s1':7,'s2':4,'s3':6,'s4':7,'s5':9,'s6':10}\n",
    "s=0\n",
    "a=0\n",
    "for i in student:\n",
    "    s+=student[i]\n",
    "    a+=1\n",
    "m=s/a\n",
    "for a,b in student.items():\n",
    "    if(b>m):\n",
    "        print(a,end=' ')"
   ]
  },
  {
   "cell_type": "code",
   "execution_count": null,
   "id": "80cdb00a-7eed-49eb-b9d5-d6d37e3e0554",
   "metadata": {},
   "outputs": [],
   "source": [
    "#8\n",
    "a=[]\n",
    "for i in range(1,11):\n",
    "    b=[]\n",
    "    b.append(i)\n",
    "    b.append(i**2)\n",
    "    a.append(tuple(b))\n",
    "print(a)"
   ]
  },
  {
   "cell_type": "code",
   "execution_count": null,
   "id": "9c53e675-92b5-4dc6-add2-2637c2c3afa3",
   "metadata": {},
   "outputs": [],
   "source": [
    "#9"
   ]
  },
  {
   "cell_type": "code",
   "execution_count": null,
   "id": "3ce36f91-aab0-4c46-82df-1e133edfe295",
   "metadata": {},
   "outputs": [],
   "source": [
    "#10\n",
    "s=input()\n",
    "s.lower()\n",
    "dict={}\n",
    "s=s.replace(' ', '')\n",
    "for a in s:\n",
    "    if a in dict.keys():\n",
    "        dict[a]+=1\n",
    "    else:\n",
    "        dict[a]=1\n",
    "print(dict)"
   ]
  },
  {
   "cell_type": "code",
   "execution_count": null,
   "id": "5a0cb250-c637-4801-894b-e79fabdbd282",
   "metadata": {},
   "outputs": [],
   "source": [
    "#11\n",
    "a=[1,2,3,4,2,3,5,3,4,2,34,2,1,3,7]\n",
    "b=[]\n",
    "for i in range(len(a)):\n",
    "    if a[i] in b:\n",
    "        pass\n",
    "    else:\n",
    "        b.append(a[i])\n",
    "b.sort()\n",
    "print(b)\n",
    "s=0\n",
    "for i in range(len(b)):\n",
    "    s+=b[i]\n",
    "print(\"Mean : \",s/len(b))\n",
    "if len(b)%2==0:\n",
    "    c=int(len(b)/2)\n",
    "    print(\"Median : \",(b[c]+b[c-1])/2)\n",
    "else:\n",
    "    print(\"Median : \",b[int((len(b)-1)/2)])"
   ]
  },
  {
   "cell_type": "code",
   "execution_count": null,
   "id": "e941a5c0-fdf0-4351-9e5b-ba68c235010b",
   "metadata": {},
   "outputs": [],
   "source": [
    "#12\n",
    "def long(s):\n",
    "    maxlen=0\n",
    "    longStr=''\n",
    "    for i in range(len(s)):\n",
    "        if len(s[i])>maxlen:\n",
    "            maxlen=len(s[i])\n",
    "    for i in range(len(s)):\n",
    "        if len(s[i])==maxlen:\n",
    "            print(s[i],end=' ')\n",
    "    print()\n",
    "def vowel(s):\n",
    "    count=0\n",
    "    for i in range(len(s)):\n",
    "        s[i]=s[i].lower()\n",
    "        if s[i][0]=='a' or s[i][0]=='e' or s[i][0]=='i' or s[i][0]=='o' or s[i][0]=='u':\n",
    "            count+=1\n",
    "    print(count)\n",
    "s=list(map(str,input().split()))\n",
    "long(s)\n",
    "vowel(s)"
   ]
  },
  {
   "cell_type": "code",
   "execution_count": null,
   "id": "1cbdb19d-49ea-4635-ab0d-a15b1cfd54a6",
   "metadata": {},
   "outputs": [],
   "source": [
    "#13\n"
   ]
  },
  {
   "cell_type": "code",
   "execution_count": null,
   "id": "de845f2d-603f-4dd3-b94c-1f2cb2e0820f",
   "metadata": {},
   "outputs": [],
   "source": [
    "#14\n",
    "def short(s):\n",
    "    t=[]\n",
    "    for i in range(len(s)):\n",
    "        if len(s[i])<4:\n",
    "            pass\n",
    "        else:\n",
    "            t.append(s[i])\n",
    "    return t\n",
    "s=list(map(str,input().split()))\n",
    "s=short(s)\n",
    "s.sort()\n",
    "print(s)\n",
    "            "
   ]
  },
  {
   "cell_type": "code",
   "execution_count": null,
   "id": "2bca1336-bd0e-47c7-97e6-a407dd0d8722",
   "metadata": {},
   "outputs": [],
   "source": [
    "#15\n",
    "word=input()\n",
    "a=sorted(word.lower())\n",
    "words=list(map(str,input().split()))\n",
    "l=[]\n",
    "for i in range(len(words)):\n",
    "    t=sorted(words[i].lower())\n",
    "    if t==a:\n",
    "        l.append(words[i])\n",
    "print(l)"
   ]
  },
  {
   "cell_type": "code",
   "execution_count": null,
   "id": "1c35b1bf-f4c2-4ecc-b952-f7a93ab8cc32",
   "metadata": {},
   "outputs": [],
   "source": [
    "#16\n",
    "def intersection(a,b):\n",
    "    c=[]\n",
    "    for i in range(len(a)):\n",
    "        for j in range(len(b)):\n",
    "            if a[i]==b[j]:\n",
    "                c.append(a[i])\n",
    "    return c\n",
    "a=list(map(int, input().split()))\n",
    "b=list(map(int, input().split()))\n",
    "print(intersection(a,b))\n"
   ]
  },
  {
   "cell_type": "code",
   "execution_count": null,
   "id": "716fc148-e410-4f9c-9e0f-e8cbf35ca1c2",
   "metadata": {},
   "outputs": [],
   "source": [
    "#17\n"
   ]
  },
  {
   "cell_type": "code",
   "execution_count": null,
   "id": "39417127-1bd9-43e4-beec-2823990336c6",
   "metadata": {},
   "outputs": [],
   "source": [
    "#18\n",
    "file = open(\"eighteen.txt\", \"r\")\n",
    "content=file.read()\n",
    "content=content.lower()\n",
    "l=[]\n",
    "word=''\n",
    "for a in content:\n",
    "    if(a not in(' ',',','.')):\n",
    "        word+=a\n",
    "    else:\n",
    "        l.append(word)\n",
    "        word=''\n",
    "print(l)\n"
   ]
  },
  {
   "cell_type": "code",
   "execution_count": null,
   "id": "cb4ab18c-7b27-4d1b-b41d-99030e1982e1",
   "metadata": {},
   "outputs": [],
   "source": [
    "#19\n",
    "import random\n",
    "with open(\"nineteen.txt\", \"w\") as file:\n",
    "    for i in range(50):\n",
    "        file.write(str(random.randint(1, 50)) + \"\\n\")\n",
    "with open(\"nineteen.txt\", 'r') as file:\n",
    "    content = file.readlines()\n",
    "s = 0\n",
    "for line in content:\n",
    "    s += int(line.strip())\n",
    "mean = s / 50\n",
    "print(f\"The mean is: {mean}\")\n"
   ]
  },
  {
   "cell_type": "code",
   "execution_count": null,
   "id": "06ee1adf-01b5-479b-b28f-4d182d22cc54",
   "metadata": {},
   "outputs": [],
   "source": [
    "#20\n"
   ]
  },
  {
   "cell_type": "code",
   "execution_count": null,
   "id": "a38531ab-9c3d-4a52-8b11-09e9dfecfa4d",
   "metadata": {},
   "outputs": [],
   "source": [
    "#21\n",
    "import statistics\n",
    "l=list(map(int,input().split()))\n",
    "print(statistics.mean(l))\n",
    "print(statistics.median(l))\n",
    "print(statistics.stdev(l))"
   ]
  },
  {
   "cell_type": "code",
   "execution_count": null,
   "id": "980b0380-da14-4c19-9619-d391d6e6741c",
   "metadata": {},
   "outputs": [],
   "source": [
    "#22\n",
    "l=list(map(int,input().split()))\n",
    "k=1/max(l)\n",
    "final=[]\n",
    "for a in l:\n",
    "    final.append(a*k)\n",
    "print(final)"
   ]
  },
  {
   "cell_type": "code",
   "execution_count": null,
   "id": "313bb585-0cfb-418a-b253-f0dc504aa7d8",
   "metadata": {},
   "outputs": [],
   "source": [
    "#23\n",
    "n=int(input())\n",
    "if(n%2==0):\n",
    "    print(\"Even\")\n",
    "else:\n",
    "    print(\"Odd\")"
   ]
  },
  {
   "cell_type": "code",
   "execution_count": null,
   "id": "5a533386-d77a-4a81-be10-e4e5a99fc2c1",
   "metadata": {},
   "outputs": [],
   "source": [
    "#24\n",
    "n=int(input())\n",
    "if n>=90:\n",
    "    print(\"A\")\n",
    "elif(n>=80):\n",
    "    print(\"B\")\n",
    "elif(n>=60):\n",
    "    print(\"D\")\n",
    "elif(n>=35):\n",
    "    print(\"E\")\n",
    "else:\n",
    "    print(\"F\")"
   ]
  },
  {
   "cell_type": "code",
   "execution_count": null,
   "id": "199774f0-abce-4855-ba38-2dd29d844849",
   "metadata": {},
   "outputs": [],
   "source": [
    "#25\n",
    "n=int(input())\n",
    "if(n%4==0 and n%100!=0) or n%400==0:\n",
    "    print(\"It's a leap year\")\n",
    "else:\n",
    "    print(\"It's not a leap year\")"
   ]
  }
 ],
 "metadata": {
  "kernelspec": {
   "display_name": "Python 3 (ipykernel)",
   "language": "python",
   "name": "python3"
  },
  "language_info": {
   "codemirror_mode": {
    "name": "ipython",
    "version": 3
   },
   "file_extension": ".py",
   "mimetype": "text/x-python",
   "name": "python",
   "nbconvert_exporter": "python",
   "pygments_lexer": "ipython3",
   "version": "3.12.5"
  }
 },
 "nbformat": 4,
 "nbformat_minor": 5
}
